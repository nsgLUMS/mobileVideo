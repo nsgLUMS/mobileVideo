{
 "cells": [
  {
   "cell_type": "code",
   "execution_count": 1,
   "id": "constant-track",
   "metadata": {},
   "outputs": [],
   "source": [
    "import numpy as np\n",
    "import pandas as pd\n",
    "import seaborn as sns\n",
    "import re\n",
    "import matplotlib.pyplot as plt\n",
    "import matplotlib.patches as mpatches\n",
    "import matplotlib.lines as mlines\n",
    "import json\n",
    "import math\n",
    "import os"
   ]
  },
  {
   "cell_type": "code",
   "execution_count": 2,
   "id": "internal-elephant",
   "metadata": {},
   "outputs": [],
   "source": [
    "records = []\n",
    "records_chunks = []\n",
    "\n",
    "phone_name = 'nexus6P'\n",
    "directory = f'nexus6Pruns'\n",
    "\n",
    "for file_name in os.listdir(directory):\n",
    "    \n",
    "    stuff = re.search(r'log_video_(\\d+)fps(\\d+)p_([\\d_]+)([nmc]{1})', file_name)\n",
    "    fps, res, mem_state, run_number = int(stuff.group(1)), int(stuff.group(2)), stuff.group(4), float(stuff.group(3).replace('_', '.'))\n",
    "    \n",
    "    with open(directory + '/' + file_name) as f:\n",
    "        lines = list(f.readlines())\n",
    "#         print(file_name, fps, run_number, len(lines))\n",
    "        last_record = lines[-1].split('\\t')\n",
    "        if len(last_record) != 11:\n",
    "            print(f'error parsing {directory}/{file_name}')\n",
    "        else:\n",
    "            crashed = int(len(lines) != 45)\n",
    "            remained_in_moderate = 0\n",
    "            went_into_critical = 1 if mem_state == 'm' and crashed == 0 else 0\n",
    "            remained_in_critical = 1 if mem_state == 'c' and crashed == 0 else 0\n",
    "            situation = 'Remained in Normal'\n",
    "            if crashed:\n",
    "                situation = 'Crashed'\n",
    "            elif went_into_critical:\n",
    "                situation = 'Went into Critical'\n",
    "            elif remained_in_critical:\n",
    "                situation = 'Remained in Critical'\n",
    "            records.append([phone_name, float(last_record[0])*1000, mem_state, res, fps, int(run_number), int(last_record[-3]), int(last_record[-2]), crashed, len(lines), float(last_record[-4]), float(last_record[-9]), remained_in_moderate, went_into_critical, remained_in_critical, situation])\n",
    "            \n",
    "            count = 0\n",
    "            for line in [line.split('\\t') for line in lines]:\n",
    "#                 print(line)\n",
    "                if len(line) > 1:\n",
    "                    records_chunks.append([phone_name, float(line[0])*1000, mem_state, res, fps, int(run_number), count,\n",
    "                                    int(line[-3]),\n",
    "                                   int(line[-2]),\n",
    "                                   crashed,\n",
    "                                   len(lines),\n",
    "                                    float(line[-4]), float(line[-9]), float(line[-1]),\n",
    "                                    remained_in_moderate, went_into_critical, remained_in_critical, situation])\n",
    "                    count += 1\n",
    "            \n",
    "raw_df = pd.DataFrame(records, columns=['Phone', 'timestamp', 'Mem. State', 'Resolution', 'FPS', 'Run No.', 'Dropped Frames', 'Total Frames', 'Crashed', 'Chunks', 'Time Elapsed (s)', 'Buffer (s)', 'Remained in Moderate', 'Went into Critical', 'Remained in Critical', 'Situation'])\n",
    "raw_df_chunks = pd.DataFrame(records_chunks, columns=['Phone', 'timestamp', 'Mem. State', 'Resolution', 'FPS', 'Run No.', 'Chunk No.', 'Dropped Frames', 'Total Frames', 'Crashed', 'Chunks', 'Time Elapsed (s)', 'Buffer (s)', 'Rendered FPS', 'Remained in Moderate', 'Went into Critical', 'Remained in Critical', 'Situation'])"
   ]
  },
  {
   "cell_type": "code",
   "execution_count": 3,
   "id": "sound-birthday",
   "metadata": {},
   "outputs": [],
   "source": [
    "# normal df\n",
    "df = raw_df.sort_values(['Phone', 'Resolution', 'FPS', 'Mem. State', 'Run No.'])\n",
    "df['%age Frames Dropped'] = (df['Dropped Frames']/df['Total Frames'])*100\n",
    "\n",
    "# df chunks\n",
    "df_chunks = raw_df_chunks.sort_values(['Phone', 'Resolution', 'FPS', 'Mem. State', 'Run No.', 'Chunk No.'])\n",
    "df_chunks['%age Frames Dropped'] = (df_chunks['Dropped Frames']/df_chunks['Total Frames'])*100\n",
    "df_chunks['Inst. Frame Drop %age'] = (df_chunks['Rendered FPS']/df_chunks['FPS'])*100"
   ]
  },
  {
   "cell_type": "code",
   "execution_count": 4,
   "id": "foster-national",
   "metadata": {},
   "outputs": [],
   "source": [
    "def change_mem_state_label(label):\n",
    "    if label == 'n':\n",
    "        return 'normal'\n",
    "    elif label == 'm':\n",
    "        return 'moderate'\n",
    "    elif label == 'c':\n",
    "        return 'critical'\n",
    "    else:\n",
    "        return label"
   ]
  },
  {
   "cell_type": "code",
   "execution_count": 5,
   "id": "boring-wrestling",
   "metadata": {},
   "outputs": [],
   "source": [
    "df['Mem. State'] = df['Mem. State'].apply(change_mem_state_label)\n",
    "df_chunks['Mem. State'] = df_chunks['Mem. State'].apply(change_mem_state_label)"
   ]
  },
  {
   "cell_type": "code",
   "execution_count": 6,
   "id": "constant-lindsay",
   "metadata": {
    "scrolled": false
   },
   "outputs": [
    {
     "data": {
      "image/png": "[encoded data removed]",
      "text/plain": [
       "<Figure size 936x288 with 2 Axes>"
      ]
     },
     "metadata": {
      "needs_background": "light"
     },
     "output_type": "display_data"
    }
   ],
   "source": [
    "def plot_frames_dropped(ax, fps):\n",
    "    \n",
    "    sns.barplot(ax=ax, data=df.loc[df['FPS'] == fps], x='Resolution', y='%age Frames Dropped',\n",
    "                hue='Mem. State',\n",
    "                hue_order=['normal', 'moderate', 'critical'], \n",
    "                palette={'normal': '#1eff00', 'moderate': '#ffea00', 'critical': '#ff350a'},\n",
    "                edgecolor='#141414', linewidth=1,\n",
    "                capsize=.05, errwidth=1.25, errcolor='#141414')\n",
    "                \n",
    "\n",
    "    ax.set_title(f'{fps}fps', fontsize=18)\n",
    "    ax.set_xlabel('Resolution', fontsize=16)\n",
    "    if fps==60:\n",
    "        ax.set_ylabel('', fontsize=16)\n",
    "    else:\n",
    "        ax.set_ylabel('%age Frames Dropped', fontsize=16)\n",
    "  \n",
    "\n",
    "    if fps == 30:\n",
    "        ax.set_yticks(np.arange(0,13,2))\n",
    "        ax.set_yticklabels(np.arange(0,13,2), rotation=0, fontsize=14)\n",
    "    else:\n",
    "        ax.set_yticks(np.arange(0,13,2))\n",
    "        ax.set_yticklabels(np.arange(0,13,2), rotation=0, fontsize=14)\n",
    "\n",
    "    ax.set_xticklabels(['720p', '1080p'], rotation=0, fontsize=14)\n",
    "\n",
    "    ax.set_axisbelow(True)\n",
    "    ax.yaxis.grid(color='#C2C2C2')\n",
    "\n",
    "    ax.get_legend().remove()\n",
    "\n",
    "\n",
    "fig, (ax1, ax2) = plt.subplots(1, 2, figsize=(13,4))\n",
    "\n",
    "plot_frames_dropped(ax1, 30)\n",
    "plot_frames_dropped(ax2, 60)\n",
    "\n",
    "plt.tight_layout()\n",
    "\n",
    "p1 = mpatches.Patch(color='#7BE026', label='Started at Normal', ec='#141414', lw=1)\n",
    "p2 = mpatches.Patch(color='#DFCF21', label='Started at Moderate', ec='#141414', lw=1)\n",
    "p3 = mpatches.Patch(color='#ff350a', label='Started at Critical', ec='#141414', lw=1)\n",
    "\n",
    "ax1.legend(handles=[p1,p2,p3], bbox_to_anchor=(0.36, 1.3), loc=2, fontsize=15, borderaxespad=0., borderpad=0.6, ncol=3, frameon=False)\n",
    "\n",
    "plt.savefig(f\"./nexus6P.jpg\", format=\"jpg\" , dpi=300, bbox_inches='tight', pad_inches=0.2)"
   ]
  }
 ],
 "metadata": {
  "kernelspec": {
   "display_name": "Python 3",
   "language": "python",
   "name": "python3"
  },
  "language_info": {
   "codemirror_mode": {
    "name": "ipython",
    "version": 3
   },
   "file_extension": ".py",
   "mimetype": "text/x-python",
   "name": "python",
   "nbconvert_exporter": "python",
   "pygments_lexer": "ipython3",
   "version": "3.8.10"
  }
 },
 "nbformat": 4,
 "nbformat_minor": 5
}
